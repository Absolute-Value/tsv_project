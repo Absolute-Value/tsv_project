{
 "cells": [
  {
   "cell_type": "code",
   "execution_count": 1,
   "metadata": {},
   "outputs": [
    {
     "name": "stderr",
     "output_type": "stream",
     "text": [
      "/opt/conda/envs/ofa/lib/python3.7/site-packages/tqdm/auto.py:22: TqdmWarning: IProgress not found. Please update jupyter and ipywidgets. See https://ipywidgets.readthedocs.io/en/stable/user_install.html\n",
      "  from .autonotebook import tqdm as notebook_tqdm\n"
     ]
    }
   ],
   "source": [
    "import argparse\n",
    "from io import BytesIO\n",
    "import base64\n",
    "from dataset.vcoco import build\n",
    "from tqdm import tqdm"
   ]
  },
  {
   "cell_type": "code",
   "execution_count": 2,
   "metadata": {},
   "outputs": [],
   "source": [
    "parser = argparse.ArgumentParser(description=\"vcoco\")\n",
    "parser.add_argument('--num_queries', default=100, type=int, help=\"Number of query slots\")\n",
    "parser.add_argument(\"--data_path\", default=\"/data/dataset/v-coco/\", type=str)\n",
    "args = parser.parse_args([])"
   ]
  },
  {
   "cell_type": "code",
   "execution_count": 168,
   "metadata": {},
   "outputs": [],
   "source": [
    "import cv2\n",
    "import numpy as np\n",
    "import matplotlib.pyplot as plt\n",
    "import torch\n",
    "def to_tsv(mode='train'):\n",
    "    dataset = build(mode, args)\n",
    "    actions = np.array(dataset.get_actions())\n",
    "    print(actions)\n",
    "    COCO_CLASSES = dataset.COCO_CLASSES\n",
    "    # COCO_CLASSES.append('no_object')\n",
    "    print(mode, len(dataset))\n",
    "    outputs = \"\"\n",
    "    for i, (img, anno) in enumerate(tqdm(dataset)):\n",
    "        if i != 0:\n",
    "            continue\n",
    "        output = f\"{i+1}\\t\"\n",
    "\n",
    "        img = cv2.cvtColor(np.asarray(img), cv2.COLOR_RGB2BGR)\n",
    "        \n",
    "        print(anno.keys())\n",
    "        boxes = anno[\"pair_boxes\"]\n",
    "        targets = anno[\"pair_targets\"]\n",
    "        hois = anno[\"pair_actions\"]\n",
    "        for box, target, hoi in zip(boxes, targets, hois):\n",
    "            if target == -1:\n",
    "                continue\n",
    "            human_box = box[:4]\n",
    "            obj_box = box[4:]\n",
    "            \n",
    "            action = [' '.join(a.split('_')[:-1]) for a in actions[hoi.to(torch.bool)]]\n",
    "            for a in action:\n",
    "                print(f'{human_box} person {a} {obj_box} {COCO_CLASSES[target]}')\n",
    "                cv2.putText(\n",
    "                    img,  a,  (int(human_box[0])+2, int(human_box[1])+20), fontFace=cv2.FONT_HERSHEY_SIMPLEX, fontScale=1, thickness=2, color=(0, 0, 255),\n",
    "                )\n",
    "                cv2.rectangle(\n",
    "                    img, (int(human_box[0]), int(human_box[1])), (int(human_box[2]), int(human_box[3])), (0, 0, 255), 3\n",
    "                )\n",
    "                cv2.putText(\n",
    "                    img,  COCO_CLASSES[target],  (int(obj_box[0])+2, int(obj_box[1])+20), fontFace=cv2.FONT_HERSHEY_SIMPLEX, fontScale=1, thickness=2, color=(0, 255, 0),\n",
    "                )\n",
    "                cv2.rectangle(\n",
    "                    img, (int(obj_box[0]), int(obj_box[1])), (int(obj_box[2]), int(obj_box[3])), (0, 255, 0), 3\n",
    "                )\n",
    "        break\n",
    "        # img_buffer = BytesIO()\n",
    "        # img.save(img_buffer, format='png')#img.format)\n",
    "        # byte_data = img_buffer.getvalue()\n",
    "        # base64_str = base64.b64encode(byte_data) # bytes\n",
    "        # base64_str = base64_str.decode(\"utf-8\") # str\n",
    "        # output += base64_str+'\\t'\n",
    "\n",
    "        # for box, target, hoi in zip(boxes, targets, hois):\n",
    "        #     if target == -1:\n",
    "        #         continue\n",
    "        #     hum_bb = box[:4]\n",
    "        #     obj_bb = box[4:]\n",
    "\n",
    "        #     action = [' '.join(a.split('_')[:-1]) for a in actions[hoi.to(torch.bool)]]\n",
    "        #     for a in action:\n",
    "        #         obj_label = labels[obj_id]\n",
    "        #         obj_name = COCO_CLASSES[target]\n",
    "                \n",
    "        #         hoi_name = a[hoi_id]\n",
    "                \n",
    "        #         output += f\"{hum_bb[0]},{hum_bb[1]},{hum_bb[2]},{hum_bb[3]},{},{a},\"\n",
    "        #         output += f\"{obj_bb[0]},{obj_bb[1]},{obj_bb[2]},{obj_bb[3]},{obj_label},{obj_name}\"\n",
    "                \n",
    "        #         output += \"&&\"\n",
    "                \n",
    "        # output = output[:-2]\n",
    "        # output += f'\\n'\n",
    "        \n",
    "        # outputs += output\n",
    "\n",
    "    # out_path = f\"outputs/hico-det_{mode}.tsv\"\n",
    "    # with open(out_path, \"w\", encoding='utf-8') as f:\n",
    "    #     f.write(targets)"
   ]
  },
  {
   "cell_type": "code",
   "execution_count": 169,
   "metadata": {},
   "outputs": [
    {
     "name": "stdout",
     "output_type": "stream",
     "text": [
      "loading annotations into memory...\n",
      "Done (t=0.92s)\n",
      "creating index...\n",
      "index created!\n",
      "['hold_obj' 'stand_agent' 'sit_instr' 'ride_instr' 'walk_agent' 'look_obj'\n",
      " 'hit_instr' 'hit_obj' 'eat_obj' 'eat_instr' 'jump_instr' 'lay_instr'\n",
      " 'talk_on_phone_instr' 'carry_obj' 'throw_obj' 'catch_obj' 'cut_instr'\n",
      " 'cut_obj' 'run_agent' 'work_on_computer_instr' 'ski_instr' 'surf_instr'\n",
      " 'skateboard_instr' 'smile_agent' 'drink_instr' 'kick_obj' 'point_instr'\n",
      " 'read_obj' 'snowboard_instr']\n",
      "val 4923\n"
     ]
    },
    {
     "name": "stderr",
     "output_type": "stream",
     "text": [
      "  0%|          | 0/4923 [00:00<?, ?it/s]"
     ]
    },
    {
     "name": "stdout",
     "output_type": "stream",
     "text": [
      "dict_keys(['image_id', 'boxes', 'labels', 'inst_actions', 'pair_boxes', 'pair_actions', 'pair_targets', 'relation_map', 'orig_size', 'size'])\n"
     ]
    },
    {
     "name": "stderr",
     "output_type": "stream",
     "text": [
      "\n"
     ]
    }
   ],
   "source": [
    "to_tsv(\"val\")"
   ]
  },
  {
   "cell_type": "code",
   "execution_count": null,
   "metadata": {},
   "outputs": [],
   "source": [
    "to_tsv(\"test\")"
   ]
  },
  {
   "cell_type": "code",
   "execution_count": null,
   "metadata": {},
   "outputs": [],
   "source": [
    "to_tsv()"
   ]
  }
 ],
 "metadata": {
  "kernelspec": {
   "display_name": "ofa",
   "language": "python",
   "name": "python3"
  },
  "language_info": {
   "codemirror_mode": {
    "name": "ipython",
    "version": 3
   },
   "file_extension": ".py",
   "mimetype": "text/x-python",
   "name": "python",
   "nbconvert_exporter": "python",
   "pygments_lexer": "ipython3",
   "version": "3.7.4"
  },
  "orig_nbformat": 4,
  "vscode": {
   "interpreter": {
    "hash": "6ac0be3cd74a22a6361a52277840c8671d9084f19d631e6f9d06823733087916"
   }
  }
 },
 "nbformat": 4,
 "nbformat_minor": 2
}
