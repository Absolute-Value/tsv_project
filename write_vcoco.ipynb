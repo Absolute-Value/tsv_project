{
 "cells": [
  {
   "cell_type": "code",
   "execution_count": null,
   "metadata": {},
   "outputs": [],
   "source": []
  }
 ],
 "metadata": {
  "kernelspec": {
   "display_name": "ofa",
   "language": "python",
   "name": "python3"
  },
  "language_info": {
   "name": "python",
   "version": "3.7.4"
  },
  "orig_nbformat": 4,
  "vscode": {
   "interpreter": {
    "hash": "6ac0be3cd74a22a6361a52277840c8671d9084f19d631e6f9d06823733087916"
   }
  }
 },
 "nbformat": 4,
 "nbformat_minor": 2
}
