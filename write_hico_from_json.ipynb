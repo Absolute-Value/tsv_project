{
 "cells": [
  {
   "cell_type": "code",
   "execution_count": 9,
   "metadata": {},
   "outputs": [],
   "source": [
    "import argparse\n",
    "from io import BytesIO\n",
    "import base64\n",
    "from dataset.hico import build"
   ]
  },
  {
   "cell_type": "code",
   "execution_count": 10,
   "metadata": {},
   "outputs": [],
   "source": [
    "parser = argparse.ArgumentParser(description=\"hico\")\n",
    "parser.add_argument('--num_queries', default=100, type=int, help=\"Number of query slots\")\n",
    "parser.add_argument(\"--data_path\", default=\"/data/dataset/HICO-DET/\", type=str)\n",
    "args = parser.parse_args([])"
   ]
  },
  {
   "cell_type": "code",
   "execution_count": 22,
   "metadata": {},
   "outputs": [],
   "source": [
    "def to_tsv(mode='train'):\n",
    "    dataset = build(mode, args)\n",
    "    actions = dataset.get_actions()\n",
    "    COCO_CLASSES = dataset.COCO_CLASSES\n",
    "    print(mode, len(dataset))\n",
    "    targets = \"\"\n",
    "    for i, (img, anno) in enumerate(dataset):\n",
    "        target = f\"{i+1}\\t\"\n",
    "        \n",
    "        hois = anno[\"hois\"]\n",
    "        boxes = anno[\"boxes\"]\n",
    "        labels = anno[\"labels\"]\n",
    "        img_buffer = BytesIO()\n",
    "        img.save(img_buffer, format='png')#img.format)\n",
    "        byte_data = img_buffer.getvalue()\n",
    "        base64_str = base64.b64encode(byte_data) # bytes\n",
    "        base64_str = base64_str.decode(\"utf-8\") # str\n",
    "        target += base64_str+'\\t'\n",
    "\n",
    "        for (hum_id, obj_id, hoi_id) in hois:\n",
    "            hum_bb = boxes[hum_id]\n",
    "            hum_label = labels[hum_id]\n",
    "            hum_name = COCO_CLASSES[hum_label]\n",
    "            \n",
    "            obj_bb = boxes[obj_id]\n",
    "            obj_label = labels[obj_id]\n",
    "            obj_name = COCO_CLASSES[obj_label]\n",
    "            \n",
    "            hoi_name = actions[hoi_id]\n",
    "            \n",
    "            target += f\"{hum_bb[0]},{hum_bb[1]},{hum_bb[2]},{hum_bb[3]},{hoi_id},{hoi_name},\"\n",
    "            target += f\"{obj_bb[0]},{obj_bb[1]},{obj_bb[2]},{obj_bb[3]},{obj_label},{obj_name}\"\n",
    "            \n",
    "            target += \"&&\"\n",
    "                \n",
    "        target = target[:-2]\n",
    "        target += f'\\n'\n",
    "        \n",
    "        targets += target\n",
    "\n",
    "    out_path = f\"outputs/hico-det_{mode}.tsv\"\n",
    "    with open(out_path, \"w\", encoding='utf-8') as f:\n",
    "        f.write(targets)"
   ]
  },
  {
   "cell_type": "code",
   "execution_count": null,
   "metadata": {},
   "outputs": [],
   "source": [
    "to_tsv(\"val\")"
   ]
  },
  {
   "cell_type": "code",
   "execution_count": null,
   "metadata": {},
   "outputs": [],
   "source": [
    "to_tsv(\"test\")"
   ]
  },
  {
   "cell_type": "code",
   "execution_count": null,
   "metadata": {},
   "outputs": [],
   "source": [
    "to_tsv()"
   ]
  }
 ],
 "metadata": {
  "kernelspec": {
   "display_name": "ofa",
   "language": "python",
   "name": "python3"
  },
  "language_info": {
   "codemirror_mode": {
    "name": "ipython",
    "version": 3
   },
   "file_extension": ".py",
   "mimetype": "text/x-python",
   "name": "python",
   "nbconvert_exporter": "python",
   "pygments_lexer": "ipython3",
   "version": "3.7.4"
  },
  "orig_nbformat": 4,
  "vscode": {
   "interpreter": {
    "hash": "6ac0be3cd74a22a6361a52277840c8671d9084f19d631e6f9d06823733087916"
   }
  }
 },
 "nbformat": 4,
 "nbformat_minor": 2
}
