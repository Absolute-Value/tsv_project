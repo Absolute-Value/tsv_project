{
 "cells": [
  {
   "cell_type": "code",
   "execution_count": 1,
   "metadata": {},
   "outputs": [],
   "source": [
    "import os\n",
    "import scipy.io\n",
    "from io import BytesIO\n",
    "import base64\n",
    "from PIL import Image, ImageDraw, ImageFont\n",
    "from matplotlib import pyplot as plt\n",
    "from IPython.display import clear_output"
   ]
  },
  {
   "cell_type": "code",
   "execution_count": 2,
   "metadata": {},
   "outputs": [],
   "source": [
    "TRAIN_HICO_IMAGE = '/data/dataset/HICO-DET/images/train2015/'\n",
    "TEST_HICO_IMAGE = '/data/dataset/HICO-DET/images/test2015/'\n",
    "ANNO_BBOX_MAT = '/data/dataset/HICO-DET/anno_bbox.mat'\n",
    "ANNO_MAT = '/data/dataset/HICO-DET/anno.mat'\n",
    "\n",
    "TRAIN_OUT_PATH = \"outputs/hico-det_train.tsv\"\n",
    "TEST_OUT_PATH = \"outputs/hico-det_test.tsv\""
   ]
  },
  {
   "cell_type": "code",
   "execution_count": 3,
   "metadata": {},
   "outputs": [
    {
     "name": "stdout",
     "output_type": "stream",
     "text": [
      "Train: 38118, Test: 9658\n"
     ]
    },
    {
     "data": {
      "text/plain": [
       "(dict_keys(['__header__', '__version__', '__globals__', 'bbox_train', 'bbox_test', 'list_action']),\n",
       " dict_keys(['__header__', '__version__', '__globals__', 'list_action', 'anno_train', 'anno_test', 'list_train', 'list_test']))"
      ]
     },
     "execution_count": 3,
     "metadata": {},
     "output_type": "execute_result"
    }
   ],
   "source": [
    "print(f'Train: {len(os.listdir(TRAIN_HICO_IMAGE))}, Test: {len(os.listdir(TEST_HICO_IMAGE))}')\n",
    "anno_bbox = scipy.io.loadmat(ANNO_BBOX_MAT)\n",
    "anno = scipy.io.loadmat(ANNO_MAT)\n",
    "anno_bbox.keys(), anno.keys()"
   ]
  },
  {
   "cell_type": "code",
   "execution_count": 4,
   "metadata": {},
   "outputs": [],
   "source": [
    "def to_tsv(mode='train'):\n",
    "    targets = \"\"\n",
    "    for j, bbox_train in enumerate(anno_bbox[f'bbox_{mode}'][0]):\n",
    "        targets += f\"{j+1}\\t\"\n",
    "        \n",
    "        hico_image = f\"/data/dataset/HICO-DET/images/{mode}2015/\"\n",
    "        img_path = os.path.join(hico_image, bbox_train[0][0])\n",
    "        img = Image.open(img_path)#.convert(\"RGB\")\n",
    "        img_buffer = BytesIO()\n",
    "        img.save(img_buffer, format=img.format)\n",
    "        byte_data = img_buffer.getvalue()\n",
    "        base64_str = base64.b64encode(byte_data) # bytes\n",
    "        base64_str = base64_str.decode(\"utf-8\") # str\n",
    "        targets += base64_str+'\\t'\n",
    "\n",
    "        for i, hoi in enumerate(bbox_train[2][0]):\n",
    "            if len(hoi[1]) == 0:\n",
    "                continue\n",
    "\n",
    "            hoi_id = int(hoi[0])-1\n",
    "            object_name = anno_bbox['list_action'][hoi_id][0][0][0]\n",
    "            hoi_name = anno_bbox['list_action'][hoi_id][0][1][0]\n",
    "            # print(hoi_id+1, object_name, hoi_name)\n",
    "            bbox_human = hoi[1][:][0]\n",
    "            bbox_object = hoi[2][:][0]\n",
    "\n",
    "            for k, index in enumerate(hoi[3]):\n",
    "                bbox_hu = bbox_human[int(index[0])-1]\n",
    "                target = f\"{int(bbox_hu[0])},{int(bbox_hu[2])},{int(bbox_hu[1])},{int(bbox_hu[3])},{hoi_id+1},{hoi_name},\"\n",
    "                \n",
    "                bbox_ob = bbox_object[int(index[1])-1]\n",
    "                target += f\"{int(bbox_ob[0])},{int(bbox_ob[2])},{int(bbox_ob[1])},{int(bbox_ob[3])},{int(index[1])},{object_name}\"\n",
    "            if i != len(bbox_train[2][0])-1:\n",
    "                target += \"&&\"\n",
    "            targets += target\n",
    "                \n",
    "        targets += f'\\n'\n",
    "\n",
    "    out_path = f\"outputs/hico-det_{mode}.tsv\"\n",
    "    with open(out_path, \"w\", encoding='utf-8') as f:\n",
    "        f.write(targets)"
   ]
  },
  {
   "cell_type": "code",
   "execution_count": 5,
   "metadata": {},
   "outputs": [],
   "source": [
    "# to_tsv('train')\n",
    "to_tsv('test')"
   ]
  },
  {
   "cell_type": "code",
   "execution_count": null,
   "metadata": {},
   "outputs": [],
   "source": []
  }
 ],
 "metadata": {
  "kernelspec": {
   "display_name": "ofa",
   "language": "python",
   "name": "python3"
  },
  "language_info": {
   "codemirror_mode": {
    "name": "ipython",
    "version": 3
   },
   "file_extension": ".py",
   "mimetype": "text/x-python",
   "name": "python",
   "nbconvert_exporter": "python",
   "pygments_lexer": "ipython3",
   "version": "3.7.4"
  },
  "orig_nbformat": 4,
  "vscode": {
   "interpreter": {
    "hash": "6ac0be3cd74a22a6361a52277840c8671d9084f19d631e6f9d06823733087916"
   }
  }
 },
 "nbformat": 4,
 "nbformat_minor": 2
}
